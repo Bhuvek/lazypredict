{
 "cells": [
  {
   "cell_type": "code",
   "execution_count": 2,
   "metadata": {},
   "outputs": [
    {
     "name": "stdout",
     "output_type": "stream",
     "text": [
      "Collecting lazypredict\n",
      "  Downloading lazypredict-0.2.12-py2.py3-none-any.whl (12 kB)\n",
      "Collecting lightgbm\n",
      "  Downloading lightgbm-3.3.3-py3-none-win_amd64.whl (1.0 MB)\n",
      "Requirement already satisfied: click in c:\\users\\bhuve\\anaconda3\\lib\\site-packages (from lazypredict) (8.0.3)\n",
      "Requirement already satisfied: tqdm in c:\\users\\bhuve\\anaconda3\\lib\\site-packages (from lazypredict) (4.62.3)\n",
      "Requirement already satisfied: pandas in c:\\users\\bhuve\\anaconda3\\lib\\site-packages (from lazypredict) (1.3.4)\n",
      "Requirement already satisfied: joblib in c:\\users\\bhuve\\anaconda3\\lib\\site-packages (from lazypredict) (1.1.0)\n",
      "Requirement already satisfied: scikit-learn in c:\\users\\bhuve\\anaconda3\\lib\\site-packages (from lazypredict) (0.24.2)\n",
      "Collecting xgboost\n",
      "  Downloading xgboost-1.7.1-py3-none-win_amd64.whl (89.1 MB)\n",
      "Requirement already satisfied: colorama in c:\\users\\bhuve\\anaconda3\\lib\\site-packages (from click->lazypredict) (0.4.4)\n",
      "Requirement already satisfied: wheel in c:\\users\\bhuve\\anaconda3\\lib\\site-packages (from lightgbm->lazypredict) (0.37.0)\n",
      "Requirement already satisfied: scipy in c:\\users\\bhuve\\anaconda3\\lib\\site-packages (from lightgbm->lazypredict) (1.7.1)\n",
      "Requirement already satisfied: numpy in c:\\users\\bhuve\\anaconda3\\lib\\site-packages (from lightgbm->lazypredict) (1.20.3)\n",
      "Requirement already satisfied: threadpoolctl>=2.0.0 in c:\\users\\bhuve\\anaconda3\\lib\\site-packages (from scikit-learn->lazypredict) (2.2.0)\n",
      "Requirement already satisfied: python-dateutil>=2.7.3 in c:\\users\\bhuve\\anaconda3\\lib\\site-packages (from pandas->lazypredict) (2.8.2)\n",
      "Requirement already satisfied: pytz>=2017.3 in c:\\users\\bhuve\\anaconda3\\lib\\site-packages (from pandas->lazypredict) (2021.3)\n",
      "Requirement already satisfied: six>=1.5 in c:\\users\\bhuve\\anaconda3\\lib\\site-packages (from python-dateutil>=2.7.3->pandas->lazypredict) (1.16.0)\n",
      "Installing collected packages: xgboost, lightgbm, lazypredict\n",
      "Successfully installed lazypredict-0.2.12 lightgbm-3.3.3 xgboost-1.7.1\n",
      "Note: you may need to restart the kernel to use updated packages.\n"
     ]
    }
   ],
   "source": [
    "pip install lazypredict"
   ]
  },
  {
   "cell_type": "code",
   "execution_count": 4,
   "metadata": {},
   "outputs": [],
   "source": [
    "import lazypredict\n",
    "from lazypredict.Supervised import LazyClassifier\n",
    "from sklearn.datasets import load_breast_cancer\n",
    "from sklearn.model_selection import train_test_split"
   ]
  },
  {
   "cell_type": "code",
   "execution_count": 12,
   "metadata": {},
   "outputs": [],
   "source": [
    "data = load_breast_cancer()"
   ]
  },
  {
   "cell_type": "code",
   "execution_count": 13,
   "metadata": {},
   "outputs": [],
   "source": [
    "X = data.data\n",
    "y = data.target"
   ]
  },
  {
   "cell_type": "code",
   "execution_count": 14,
   "metadata": {},
   "outputs": [],
   "source": [
    "X_train, X_test, y_train, y_test = train_test_split(X, y, test_size=.5, random_state =12)"
   ]
  },
  {
   "cell_type": "code",
   "execution_count": 15,
   "metadata": {},
   "outputs": [],
   "source": [
    "clf = LazyClassifier(verbose=0, ignore_warnings=True, custom_metric = None)"
   ]
  },
  {
   "cell_type": "code",
   "execution_count": 16,
   "metadata": {},
   "outputs": [
    {
     "name": "stderr",
     "output_type": "stream",
     "text": [
      "100%|██████████| 29/29 [00:01<00:00, 23.08it/s]"
     ]
    },
    {
     "name": "stdout",
     "output_type": "stream",
     "text": [
      "                               Accuracy  Balanced Accuracy  ROC AUC  F1 Score  \\\n",
      "Model                                                                           \n",
      "LinearSVC                          0.98               0.97     0.97      0.98   \n",
      "Perceptron                         0.97               0.96     0.96      0.97   \n",
      "PassiveAggressiveClassifier        0.96               0.96     0.96      0.96   \n",
      "SGDClassifier                      0.97               0.96     0.96      0.97   \n",
      "LogisticRegression                 0.97               0.96     0.96      0.97   \n",
      "QuadraticDiscriminantAnalysis      0.95               0.95     0.95      0.95   \n",
      "RidgeClassifierCV                  0.96               0.95     0.95      0.96   \n",
      "SVC                                0.96               0.95     0.95      0.96   \n",
      "LabelSpreading                     0.95               0.94     0.94      0.95   \n",
      "LabelPropagation                   0.95               0.94     0.94      0.95   \n",
      "RidgeClassifier                    0.95               0.94     0.94      0.95   \n",
      "AdaBoostClassifier                 0.95               0.94     0.94      0.95   \n",
      "ExtraTreesClassifier               0.95               0.94     0.94      0.95   \n",
      "LinearDiscriminantAnalysis         0.95               0.93     0.93      0.95   \n",
      "ExtraTreeClassifier                0.94               0.93     0.93      0.94   \n",
      "CalibratedClassifierCV             0.95               0.93     0.93      0.95   \n",
      "KNeighborsClassifier               0.95               0.93     0.93      0.95   \n",
      "XGBClassifier                      0.94               0.93     0.93      0.94   \n",
      "BaggingClassifier                  0.94               0.93     0.93      0.94   \n",
      "NuSVC                              0.95               0.93     0.93      0.95   \n",
      "LGBMClassifier                     0.94               0.93     0.93      0.94   \n",
      "GaussianNB                         0.93               0.92     0.92      0.93   \n",
      "RandomForestClassifier             0.93               0.92     0.92      0.93   \n",
      "DecisionTreeClassifier             0.93               0.91     0.91      0.93   \n",
      "BernoulliNB                        0.92               0.91     0.91      0.92   \n",
      "NearestCentroid                    0.93               0.90     0.90      0.92   \n",
      "DummyClassifier                    0.65               0.50     0.50      0.51   \n",
      "\n",
      "                               Time Taken  \n",
      "Model                                      \n",
      "LinearSVC                            0.02  \n",
      "Perceptron                           0.01  \n",
      "PassiveAggressiveClassifier          0.02  \n",
      "SGDClassifier                        0.02  \n",
      "LogisticRegression                   0.02  \n",
      "QuadraticDiscriminantAnalysis        0.02  \n",
      "RidgeClassifierCV                    0.02  \n",
      "SVC                                  0.02  \n",
      "LabelSpreading                       0.03  \n",
      "LabelPropagation                     0.03  \n",
      "RidgeClassifier                      0.02  \n",
      "AdaBoostClassifier                   0.16  \n",
      "ExtraTreesClassifier                 0.17  \n",
      "LinearDiscriminantAnalysis           0.05  \n",
      "ExtraTreeClassifier                  0.01  \n",
      "CalibratedClassifierCV               0.05  \n",
      "KNeighborsClassifier                 0.03  \n",
      "XGBClassifier                        0.06  \n",
      "BaggingClassifier                    0.07  \n",
      "NuSVC                                0.04  \n",
      "LGBMClassifier                       0.10  \n",
      "GaussianNB                           0.01  \n",
      "RandomForestClassifier               0.15  \n",
      "DecisionTreeClassifier               0.02  \n",
      "BernoulliNB                          0.08  \n",
      "NearestCentroid                      0.02  \n",
      "DummyClassifier                      0.01  \n"
     ]
    },
    {
     "name": "stderr",
     "output_type": "stream",
     "text": [
      "\n"
     ]
    }
   ],
   "source": [
    "models,predictions = clf.fit(X_train, X_test, y_train, y_test)\n",
    "print(models)"
   ]
  },
  {
   "cell_type": "code",
   "execution_count": null,
   "metadata": {},
   "outputs": [],
   "source": []
  }
 ],
 "metadata": {
  "kernelspec": {
   "display_name": "Python 3.9.7 ('base')",
   "language": "python",
   "name": "python3"
  },
  "language_info": {
   "codemirror_mode": {
    "name": "ipython",
    "version": 3
   },
   "file_extension": ".py",
   "mimetype": "text/x-python",
   "name": "python",
   "nbconvert_exporter": "python",
   "pygments_lexer": "ipython3",
   "version": "3.9.7"
  },
  "orig_nbformat": 4,
  "vscode": {
   "interpreter": {
    "hash": "a81459f6d448591c617d5c422996159fd08282574b2d2a9a5bfa834011e25d72"
   }
  }
 },
 "nbformat": 4,
 "nbformat_minor": 2
}
